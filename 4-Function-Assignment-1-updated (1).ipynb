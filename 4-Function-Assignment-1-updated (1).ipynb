{
 "cells": [
  {
   "cell_type": "code",
   "execution_count": 17,
   "id": "69499191-349f-4ba0-b643-3760eeccd235",
   "metadata": {},
   "outputs": [],
   "source": [
    "# 1. List Subfields in AI\n",
    "class SubFieldsInAI:\n",
    "    def Subfields():\n",
    "        subfields = [\"Machine Learning\", \"Neural Networks\", \"Vision\",\n",
    "            \"Robotics\", \"Speech Processing\", \"Natural Language Processing\"]\n",
    "        print(\"Sub-fields in AI are:\")\n",
    "        for field in subfields:\n",
    "        print(field)"
   ]
  },
  {
   "cell_type": "code",
   "execution_count": 19,
   "id": "f8223c8e-a8c5-426f-ac22-18ae34d7d13a",
   "metadata": {},
   "outputs": [
    {
     "name": "stdout",
     "output_type": "stream",
     "text": [
      "Sub-fields in AI are:\n",
      "Machine Learning\n",
      "Neural Networks\n",
      "Vision\n",
      "Robotics\n",
      "Speech Processing\n",
      "Natural Language Processing\n"
     ]
    }
   ],
   "source": [
    "SubFieldsInAI.Subfields()"
   ]
  },
  {
   "cell_type": "code",
   "execution_count": null,
   "id": "5334c500-899d-4c25-b380-64ceaad26b71",
   "metadata": {},
   "outputs": [],
   "source": [
    "# Create a function that checks whether the given number is odd or even"
   ]
  },
  {
   "cell_type": "code",
   "execution_count": 53,
   "id": "2a060761-e8cd-4110-b894-1a9e76b7065c",
   "metadata": {},
   "outputs": [],
   "source": [
    "def OddEven():\n",
    "    num=int(input(\"Enter the number:\"))\n",
    "    if(num%2==0):\n",
    "        print(\"Even number\")\n",
    "        message=\"Even number\"\n",
    "    else:\n",
    "        print(\"Odd number\")\n",
    "        message=\"Odd number\"\n",
    "    return num, message\n",
    "\n"
   ]
  },
  {
   "cell_type": "code",
   "execution_count": 55,
   "id": "18535162-2da0-4fef-b4cb-61fdb944f901",
   "metadata": {},
   "outputs": [
    {
     "name": "stdin",
     "output_type": "stream",
     "text": [
      "Enter the number: 54252\n"
     ]
    },
    {
     "name": "stdout",
     "output_type": "stream",
     "text": [
      "Even number\n"
     ]
    }
   ],
   "source": [
    "num, message=OddEven()"
   ]
  },
  {
   "cell_type": "code",
   "execution_count": 57,
   "id": "a7037f1d-399c-4fa3-a37b-c274fc4c61a6",
   "metadata": {},
   "outputs": [
    {
     "name": "stdout",
     "output_type": "stream",
     "text": [
      "54252 is an Even number\n"
     ]
    }
   ],
   "source": [
    "if(message==\"Even number\"):\n",
    "    print(num,\"is an Even number\")\n",
    "else:\n",
    "    print(num,\"is an Odd number\")\n"
   ]
  },
  {
   "cell_type": "code",
   "execution_count": null,
   "id": "e4499810-249e-47cc-bd10-f8362a2c6225",
   "metadata": {},
   "outputs": [],
   "source": [
    "# Create a function that tels eligibility of mariage \n",
    "for male and female according to their age limit like 21 for male and 18 for female"
   ]
  },
  {
   "cell_type": "code",
   "execution_count": 59,
   "id": "d305c5fd-917c-4b1c-9cd9-438d76cb113a",
   "metadata": {},
   "outputs": [],
   "source": [
    "def Eligible():\n",
    "        gender = input(\"your gender:\")\n",
    "        age = int(input(\"your age:\"))\n",
    "        if (gender.lower() == \"male\" and age>=21) or (gender.lower() == \"female\" and age<=18):\n",
    "            print(\"ELIGIBLE\")\n",
    "            message=\"ELIGIBLE\"\n",
    "        else:\n",
    "            print(\"NOT ELIGIBLE\")\n",
    "            message=\"NOT ELIGIBLE\"\n",
    "        return message\n",
    "    \n"
   ]
  },
  {
   "cell_type": "code",
   "execution_count": 63,
   "id": "e4648bbf-2b24-491a-901c-a8b21449e90f",
   "metadata": {},
   "outputs": [
    {
     "name": "stdin",
     "output_type": "stream",
     "text": [
      "your gender: MALE\n",
      "your age: 20\n"
     ]
    },
    {
     "name": "stdout",
     "output_type": "stream",
     "text": [
      "NOT ELIGIBLE\n"
     ]
    }
   ],
   "source": [
    "Eligible()"
   ]
  },
  {
   "cell_type": "code",
   "execution_count": null,
   "id": "6f8c2334-2d25-41a3-9db0-0695a67f8a72",
   "metadata": {},
   "outputs": [],
   "source": [
    "# Print area and Perimeter of Triangle using Class and Functions"
   ]
  },
  {
   "cell_type": "code",
   "execution_count": 110,
   "id": "04e8ddf4-117e-439e-a9d9-b137712894d7",
   "metadata": {},
   "outputs": [],
   "source": [
    "def triangle():\n",
    "    height=int(input(\"Height: \"))\n",
    "    breadth=int(input(\"Breadth: \"))  \n",
    "    \n",
    "    print(\"Area formula:(Height*Breadth)/2\")\n",
    "    Area = (height*breadth)/2\n",
    "    print(\"Area of Triangle:\", Area)\n",
    "\n",
    "    return Area\n",
    "    \n",
    "    "
   ]
  },
  {
   "cell_type": "code",
   "execution_count": 112,
   "id": "8e762aea-aefc-413f-a42b-da868c43324e",
   "metadata": {},
   "outputs": [
    {
     "name": "stdin",
     "output_type": "stream",
     "text": [
      "Height:  32\n",
      "Breadth:  34\n"
     ]
    },
    {
     "name": "stdout",
     "output_type": "stream",
     "text": [
      "Area formula:(Height*Breadth)/2\n",
      "Area of Triangle: 544.0\n"
     ]
    },
    {
     "data": {
      "text/plain": [
       "544.0"
      ]
     },
     "execution_count": 112,
     "metadata": {},
     "output_type": "execute_result"
    }
   ],
   "source": [
    "triangle()\n"
   ]
  },
  {
   "cell_type": "code",
   "execution_count": 122,
   "id": "6855dada-ff08-476a-a94d-983608b8a0cb",
   "metadata": {},
   "outputs": [],
   "source": [
    "def triangle2():\n",
    "    height1=int(input(\"Height1: \"))\n",
    "    height2=int(input(\"Height2: \"))\n",
    "    breadth=int(input(\"Breadth: \"))\n",
    "    perimeter=height1+height2+breadth\n",
    "    print(\"perimeter formula: Height1+Height2+Breadth\")\n",
    "    print(\"Perimeter of Triangle\", perimeter)\n",
    "    return perimeter"
   ]
  },
  {
   "cell_type": "code",
   "execution_count": 124,
   "id": "02bed0a3-db01-4cd5-afb5-787ccdb2a48e",
   "metadata": {},
   "outputs": [
    {
     "name": "stdin",
     "output_type": "stream",
     "text": [
      "Height1:  2\n",
      "Height2:  4\n",
      "Breadth:  4\n"
     ]
    },
    {
     "name": "stdout",
     "output_type": "stream",
     "text": [
      "perimeter formula: Height1+Height2+Breadth\n",
      "Perimeter of Triangle 10\n"
     ]
    },
    {
     "data": {
      "text/plain": [
       "10"
      ]
     },
     "execution_count": 124,
     "metadata": {},
     "output_type": "execute_result"
    }
   ],
   "source": [
    "triangle2()"
   ]
  },
  {
   "cell_type": "code",
   "execution_count": null,
   "id": "2e203e07-ea0b-47e3-b867-dd6df1a0a4aa",
   "metadata": {},
   "outputs": [],
   "source": [
    "# Calculate the percentage of your 10 th mark"
   ]
  },
  {
   "cell_type": "code",
   "execution_count": 15,
   "id": "37f3dbdd-279b-4664-8213-ccd6f4be07ab",
   "metadata": {},
   "outputs": [],
   "source": [
    "def percentage():\n",
    "        Subject1 = int(input(\"Subject1= \"))\n",
    "        Subject2 = int(input(\"Subject2= \"))\n",
    "        Subject3 = int(input(\"Subject3= \"))\n",
    "        Subject4 = int(input(\"Subject4= \"))\n",
    "        Subject5 = int(input(\"Subject5= \"))\n",
    "        Total = Subject1 + Subject2 + Subject3 + Subject4 + Subject5 \n",
    "        Percentage = (Total/500) * 100\n",
    "        \n",
    "        print(\"Total:\" , Total)\n",
    "        print(\"Percentage:\",(Percentage))\n",
    "        return Percentage"
   ]
  },
  {
   "cell_type": "code",
   "execution_count": 17,
   "id": "d06d94c8-2bb6-49d8-a9d1-6c4c730091a5",
   "metadata": {},
   "outputs": [
    {
     "name": "stdin",
     "output_type": "stream",
     "text": [
      "Subject1=  98\n",
      "Subject2=  87\n",
      "Subject3=  95\n",
      "Subject4=  95\n",
      "Subject5=  93\n"
     ]
    },
    {
     "name": "stdout",
     "output_type": "stream",
     "text": [
      "Total: 468\n",
      "Percentage: 93.60000000000001\n"
     ]
    },
    {
     "data": {
      "text/plain": [
       "93.60000000000001"
      ]
     },
     "execution_count": 17,
     "metadata": {},
     "output_type": "execute_result"
    }
   ],
   "source": [
    "percentage()"
   ]
  },
  {
   "cell_type": "code",
   "execution_count": null,
   "id": "94101cd5-c391-47b3-bb1e-5602ba98bb3e",
   "metadata": {},
   "outputs": [],
   "source": []
  }
 ],
 "metadata": {
  "kernelspec": {
   "display_name": "Python [conda env:base] *",
   "language": "python",
   "name": "conda-base-py"
  },
  "language_info": {
   "codemirror_mode": {
    "name": "ipython",
    "version": 3
   },
   "file_extension": ".py",
   "mimetype": "text/x-python",
   "name": "python",
   "nbconvert_exporter": "python",
   "pygments_lexer": "ipython3",
   "version": "3.12.7"
  }
 },
 "nbformat": 4,
 "nbformat_minor": 5
}
